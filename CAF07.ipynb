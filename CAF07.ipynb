{
 "cells": [
  {
   "cell_type": "markdown",
   "metadata": {},
   "source": [
    "# CoArray Fortran test\n",
    "\n",
    "**Fortran kernel for Jupyter with Coarray support**\n",
    "https://github.com/sourceryinstitute/jupyter-CAF-kernel\n",
    "\n",
    "testing the correspondence of multi-codimensional coarray indices and image numbers"
   ]
  },
  {
   "cell_type": "code",
   "execution_count": 4,
   "metadata": {},
   "outputs": [
    {
     "name": "stdout",
     "output_type": "stream",
     "text": [
      " image_index           1           6           4\n",
      "\n",
      " image = 1\n",
      " [1]\n",
      " [1, 1]\n",
      " [1, 1, 1]\n",
      "\n",
      " image = 2\n",
      " [2]\n",
      " [2, 1]\n",
      " [2, 1, 1]\n",
      "\n",
      " image = 3\n",
      " [3]\n",
      " [1, 2]\n",
      " [1, 2, 1]\n",
      "\n",
      " image = 4\n",
      " [4]\n",
      " [2, 2]\n",
      " [2, 2, 1]\n",
      "\n",
      " image = 5\n",
      " [5]\n",
      " [1, 3]\n",
      " [1, 1, 2]\n",
      "\n",
      " image = 6\n",
      " [6]\n",
      " [2, 3]\n",
      " [2, 1, 2]\n",
      "\n",
      " image = 7\n",
      " [7]\n",
      " [1, 4]\n",
      " [1, 2, 2]\n",
      "\n",
      " image = 8\n",
      " [8]\n",
      " [2, 4]\n",
      " [2, 2, 2]\n"
     ]
    }
   ],
   "source": [
    "%num_images:8\n",
    "    program CAF07\n",
    "        implicit none\n",
    "        integer :: n1[*], n2[2, *], n3[2, 2, *]\n",
    "        integer :: ne, me, m2(2), m3(3)\n",
    "        \n",
    "        ne = num_images()\n",
    "        me = this_image()\n",
    "        !\n",
    "        if (me == 1) then \n",
    "            print *, 'image_index', image_index(n1, [1]), image_index(n2, [2, 3]), image_index(n3, [2, 2, 1])\n",
    "        end if\n",
    "        !\n",
    "        if (me > 1) sync images(me - 1)\n",
    "        print '(/2g0)', ' image = ', me\n",
    "        print '( \" [\", *( g0,\"]\":TL1, \", \") )', this_image(n1)\n",
    "        print '( \" [\", *( g0,\"]\":TL1, \", \") )', this_image(n2)\n",
    "        print '( \" [\", *( g0,\"]\":TL1, \", \") )', this_image(n3)\n",
    "        if (me < ne) sync images(me + 1)\n",
    "    end program CAF07"
   ]
  },
  {
   "cell_type": "code",
   "execution_count": null,
   "metadata": {},
   "outputs": [],
   "source": []
  }
 ],
 "metadata": {
  "kernelspec": {
   "display_name": "Coarray Fortran",
   "language": "Fortran",
   "name": "coarray-fortran"
  },
  "language_info": {
   "file_extension": ".f90",
   "mimetype": "text/plain",
   "name": "fortran"
  }
 },
 "nbformat": 4,
 "nbformat_minor": 2
}
